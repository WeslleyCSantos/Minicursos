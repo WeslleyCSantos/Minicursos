{
  "nbformat": 4,
  "nbformat_minor": 0,
  "metadata": {
    "colab": {
      "name": "Aula 1.ipynb",
      "provenance": [],
      "toc_visible": true
    },
    "kernelspec": {
      "name": "python3",
      "display_name": "Python 3"
    }
  },
  "cells": [
    {
      "cell_type": "markdown",
      "metadata": {
        "id": "t6vYPn4BC4zZ"
      },
      "source": [
        "# Minicurso de Python do PET\n",
        "\n",
        "## Aula 1\n"
      ]
    },
    {
      "cell_type": "markdown",
      "metadata": {
        "id": "-VBNyWCdFFXS"
      },
      "source": [
        "#Introdução ao Python\n",
        "\n",
        "\n",
        "\n",
        "*   [História do Python](https://en.wikipedia.org/wiki/History_of_Python);\n",
        "*   Evolução do Python;\n",
        "*   [Quem utiliza o Python?](https://python.org.br/empresas/)\n",
        "\n",
        "# O Google Colaboratory\n",
        "\n",
        "\n",
        "\n",
        "*   [O que é?](https://research.google.com/colaboratory/faq.html)\n",
        "*   Como utilizar o shell python?\n",
        "*   Utilizando o shell como calculadora\n",
        "*   Declaração de variáveis \n",
        "*  Como executar um programa no colaboratory?\n",
        "\n",
        "\n",
        "\n",
        "\n"
      ]
    },
    {
      "cell_type": "code",
      "metadata": {
        "id": "jWwam-6lHQw7"
      },
      "source": [
        "1+1"
      ],
      "execution_count": null,
      "outputs": []
    },
    {
      "cell_type": "markdown",
      "metadata": {
        "id": "eyyTFukkHQik"
      },
      "source": [
        "# Executando um script python\n",
        "\n",
        "\n",
        "\n",
        "*   Criação do nosso primeiro programa;\n",
        "*   Como funciona a estrutura de interpretação do python?\n",
        "*   Qual a diferença entre compilar e interpretar?\n",
        "\n"
      ]
    },
    {
      "cell_type": "code",
      "metadata": {
        "id": "1S3duEynIrlR"
      },
      "source": [
        ""
      ],
      "execution_count": null,
      "outputs": []
    },
    {
      "cell_type": "markdown",
      "metadata": {
        "id": "DjZ58BaLIssn"
      },
      "source": [
        "# Identação\n",
        "\n",
        "* Por que usar identação?\n",
        "* Há diferença entre identar com tab e espaço?\n",
        "\n",
        "![Blocos no python](https://www.python-course.eu/images/blocks.png)\n"
      ]
    },
    {
      "cell_type": "markdown",
      "metadata": {
        "id": "ZwzV9pDgJYMl"
      },
      "source": [
        "# Tipos de dados e variáveis\n",
        "\n",
        "* Variáveis em outras linguagens;\n",
        "* Variáveis em python;\n",
        "* Referências a objetos;\n",
        "* Nomes válidos de variáveis;\n",
        "* Keywords;\n",
        "\n",
        "Tipos de Dados\n",
        "\n",
        "\n",
        "\n",
        "*   Números;\n",
        "*   Listas;\n",
        "*   Strings;\n",
        "*   Booleanos\n",
        "\n",
        "\n",
        "\n"
      ]
    },
    {
      "cell_type": "code",
      "metadata": {
        "id": "JYDuohQJJ40U"
      },
      "source": [
        "import keyword\n",
        "print('Não podem ser nomes de variáveis :', ', '.join(keyword.kwlist))"
      ],
      "execution_count": null,
      "outputs": []
    },
    {
      "cell_type": "code",
      "metadata": {
        "id": "1p3letMBKThj"
      },
      "source": [
        "print('Tipos de dados disponíveis no Python:')\n",
        "print(type(1))\n",
        "print(type(1.0))\n",
        "print(type(1 + 1j))\n",
        "print(type([]))\n",
        "print(type('Weslley'))\n",
        "print(type(True))"
      ],
      "execution_count": null,
      "outputs": []
    },
    {
      "cell_type": "markdown",
      "metadata": {
        "id": "KyNfUbZJKxLJ"
      },
      "source": [
        "# Operações Aritméticas com Escalares\n",
        "\n",
        "* Adição\n",
        "* Subtração\n",
        "* Multiplicação\n",
        "* Divisão\n",
        "* Divisão inteira\n",
        "* Resto da divisão\n",
        "* Exponenciação"
      ]
    },
    {
      "cell_type": "code",
      "metadata": {
        "id": "61k3XGsvLAWh"
      },
      "source": [
        "print('Adição de dois números:')\n",
        "adicao = '3+2'\n",
        "subtracao ='5-2'\n",
        "mult = '6*4'\n",
        "div = '5/4'\n",
        "divint = '5//4'\n",
        "modint = '5%4'\n",
        "exp = '2**10'\n",
        "print(adicao,'=',eval(adicao))\n",
        "print(subtracao,'=',eval(subtracao))\n",
        "print(mult,'=',eval(mult))\n",
        "print(div,'=',eval(div))\n",
        "print(divint,'=',eval(divint))\n",
        "print(modint,'=',eval(modint))\n",
        "print(exp,'=',eval(exp))\n",
        "\n",
        "\n"
      ],
      "execution_count": null,
      "outputs": []
    },
    {
      "cell_type": "markdown",
      "metadata": {
        "id": "SjLVr6b3MJh2"
      },
      "source": [
        "# Operações Lógicas com Escalares\n",
        "\n",
        "* Maior\n",
        "* Menor\n",
        "* Maior ou igual\n",
        "* Menor ou igual\n",
        "* Igual\n",
        "* Diferente\n",
        "* Ou bit a bit\n",
        "* E bit a bit\n",
        "* Xor bit a bit\n",
        "* Deslocamento de bits"
      ]
    },
    {
      "cell_type": "code",
      "metadata": {
        "id": "sX2w88qSMfQE"
      },
      "source": [
        "maior = '3>2'\n",
        "menor = '5<2'\n",
        "meq = '6>=4'\n",
        "meneq = '5<=4'\n",
        "eq = '5==4'\n",
        "ineq = '2!=3'\n",
        "orbit = '0|1'\n",
        "andbit = '1 & 2'\n",
        "xor = '2 ^ 2'\n",
        "des = '1<<5'\n",
        "print('Operações lógicas em python')\n",
        "print(maior,'=',eval(maior))\n",
        "print(menor,'=',eval(menor))\n",
        "print(meq,'=',eval(meq))\n",
        "print(meneq,'=',eval(meneq))\n",
        "print(eq,'=',eval(eq))\n",
        "print(ineq,'=',eval(ineq))\n",
        "print(orbit,'=',eval(orbit))\n",
        "print(andbit,'=',eval(andbit))\n",
        "print(xor,'=',eval(xor))\n",
        "print(des,'=',eval(des))\n",
        "\n"
      ],
      "execution_count": null,
      "outputs": []
    },
    {
      "cell_type": "markdown",
      "metadata": {
        "id": "ERP269upNmAZ"
      },
      "source": [
        "# Precedência de Operadores\n",
        "\n",
        "* Em expressões com muitas operações, uma ordem de execução deve ser seguida:\n",
        "\n",
        "\n",
        "\n",
        "1.   Parênteses mais interno;\n",
        "2.   Exponenciação;\n",
        "3. Multiplicação e divisão;\n",
        "4. Soma e subtração.\n",
        "\n"
      ]
    },
    {
      "cell_type": "code",
      "metadata": {
        "id": "DdGQ6aXKNzT3"
      },
      "source": [
        "4+4.5*2"
      ],
      "execution_count": null,
      "outputs": []
    },
    {
      "cell_type": "markdown",
      "metadata": {
        "id": "8tKm0Op8N7x4"
      },
      "source": [
        "# Entrada de dados\n",
        "\n",
        "* A função input\n",
        "* O formato da entrada **importa!**\n",
        "* Como fazer a conversão?\n",
        "* Um modo mais fácil de converter aparece\n"
      ]
    },
    {
      "cell_type": "code",
      "metadata": {
        "id": "ILEioOC9OKBP"
      },
      "source": [
        "idade = input('Digite a sua idade ')\n",
        "# Código errado, por quê?\n",
        "#print('Sua idade daqui um ano será:',idade+1)\n"
      ],
      "execution_count": null,
      "outputs": []
    },
    {
      "cell_type": "markdown",
      "metadata": {
        "id": "vxgxCM6Tb9ya"
      },
      "source": [
        ""
      ]
    },
    {
      "cell_type": "code",
      "metadata": {
        "id": "uhuoEVd7b9YX"
      },
      "source": [
        ""
      ],
      "execution_count": null,
      "outputs": []
    },
    {
      "cell_type": "code",
      "metadata": {
        "id": "V08-MeRIR5uJ"
      },
      "source": [
        "n1 = input('Digite um número ')\n",
        "print(n1, type(n1))\n",
        "n1 = int(n1)\n",
        "print(n1, type(n1))"
      ],
      "execution_count": null,
      "outputs": []
    },
    {
      "cell_type": "code",
      "metadata": {
        "id": "ZtR6eNq9SQKb"
      },
      "source": [
        "# Caso mais de um número seja digitado em uma linha\n",
        "\n",
        "n1,n2 = input('Digite dois números ').split()\n",
        "print(n1,n2)\n",
        "print(n1+n2)"
      ],
      "execution_count": null,
      "outputs": []
    },
    {
      "cell_type": "markdown",
      "metadata": {
        "id": "o7fdXxK2PalT"
      },
      "source": [
        "# Saída de dados\n",
        "\n",
        "* A função print\n",
        "* Como formatar sua impressão?"
      ]
    },
    {
      "cell_type": "code",
      "metadata": {
        "id": "WBpKLUP6Pm8j",
        "colab": {
          "base_uri": "https://localhost:8080/",
          "height": 108
        },
        "outputId": "1363af32-c48c-410e-c431-65adaf9ee251"
      },
      "source": [
        "print('Olá mundo')\n",
        "var = 12\n",
        "print(var)\n",
        "print('O número é igual a',var)\n",
        "print('Meu número {} é melhor que o seu'.format(var))\n",
        "print('{} dividido por 4 é igual a {}'.format(var,var/4))"
      ],
      "execution_count": null,
      "outputs": [
        {
          "output_type": "stream",
          "text": [
            "Olá mundo\n",
            "12\n",
            "O número é igual a 12\n",
            "Meu número 12 é melhor que o seu\n",
            "12 dividido por 4 é igual a 3.0\n"
          ],
          "name": "stdout"
        }
      ]
    },
    {
      "cell_type": "markdown",
      "metadata": {
        "id": "90FiwpY_QdhY"
      },
      "source": [
        "# Desvio condicional\n",
        "\n",
        "* Blocos de decisão\n",
        "* O que é falso para o python?\n",
        "* if, elif e else\n",
        "* if ternário"
      ]
    },
    {
      "cell_type": "code",
      "metadata": {
        "id": "-DuOyLzyQqhA"
      },
      "source": [
        "print('O que é falso para o python?')\n",
        "print(bool(0) == False)\n",
        "print(bool([]) == False)\n",
        "print(bool('0') == False)\n",
        "print(bool('') == False)\n",
        "print(bool(0.0) == False)"
      ],
      "execution_count": null,
      "outputs": []
    },
    {
      "cell_type": "code",
      "metadata": {
        "id": "j1-Ql9-BRPMH"
      },
      "source": [
        "#Como funciona o desvio condicional em python?\n",
        "\n",
        "n = int(input('Digite um número '))\n",
        "if n  > 50:\n",
        "  print('O número que você digitou é maior que cinquenta')\n",
        "elif n < 50:\n",
        "  print('O número que você digitou é menor que cinquenta')\n",
        "else:\n",
        "  print('O número que você digitou é cinquenta')"
      ],
      "execution_count": null,
      "outputs": []
    },
    {
      "cell_type": "code",
      "metadata": {
        "id": "C-7kyKKbRi6N"
      },
      "source": [
        "# Como funciona o if ternário?\n",
        "# Exemplo: Escolher o menor número entre dois números\n",
        "\n",
        "n1 = int(input('Digite um número '))\n",
        "n2 = int(input('Digite outro número '))\n",
        "menor = n1 if n1 < n2 else n2\n",
        "print('O menor número é :',menor)"
      ],
      "execution_count": null,
      "outputs": []
    }
  ]
}