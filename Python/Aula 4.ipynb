{
 "cells": [
  {
   "cell_type": "markdown",
   "metadata": {
    "colab_type": "text",
    "id": "t61XwVn3vWAU"
   },
   "source": [
    "#Exceções\n",
    "\n",
    "* Quando algo dá errado durante a execução do código em python, uma exceção é levantada, por exemplo, no caso de uma divisão por zero, o python retorna a exceção ZeroDivisionError ou caso se tente acessar uma chave inexistente em um dicionário, temos a exceção KeyError."
   ]
  },
  {
   "cell_type": "code",
   "execution_count": 0,
   "metadata": {
    "colab": {},
    "colab_type": "code",
    "id": "S7g2WzyZvRqi"
   },
   "outputs": [],
   "source": [
    "dicionario = {}\n",
    "print(dicionario['oi'])\n",
    "# Descomente a linha anterior para ver a exceção"
   ]
  },
  {
   "cell_type": "markdown",
   "metadata": {
    "colab_type": "text",
    "id": "OBJ2FY20w9Nw"
   },
   "source": [
    "## A estrutura try-except\n",
    "\n",
    "* Se você sabe que um bloco de código pode falhar de alguma maneira, você pode utilizar a estrutura `try-except` para lidar com as exceções da maneira desejada"
   ]
  },
  {
   "cell_type": "code",
   "execution_count": 0,
   "metadata": {
    "colab": {},
    "colab_type": "code",
    "id": "3XUfNLQnyFAc"
   },
   "outputs": [],
   "source": [
    "n = int(input('Digite o dividendo '))\n",
    "m = int(input('Digite o divisor '))\n",
    "try:\n",
    "  print(n/m)\n",
    "\n",
    "except ZeroDivisionError:\n",
    "  print('Impossível dividir por zero')\n",
    "  "
   ]
  },
  {
   "cell_type": "markdown",
   "metadata": {
    "colab_type": "text",
    "id": "qlFqOg0Pyj4C"
   },
   "source": [
    "* Caso não se saiba qual tipo de exceção o seu código poderá enfrentar, pode-se utilizar `Exception`, que tratará de todas as exceções."
   ]
  },
  {
   "cell_type": "code",
   "execution_count": 0,
   "metadata": {
    "colab": {
     "base_uri": "https://localhost:8080/",
     "height": 68
    },
    "colab_type": "code",
    "executionInfo": {
     "elapsed": 5951,
     "status": "ok",
     "timestamp": 1536788658316,
     "user": {
      "displayName": "Weslley da Cunha Santos",
      "photoUrl": "https://lh3.googleusercontent.com/a/default-user=s128",
      "userId": "116002397211802747098"
     },
     "user_tz": 180
    },
    "id": "y4ulPEsqyxQS",
    "outputId": "e5f55f29-6da2-46a8-e4f4-03daaabe99b1"
   },
   "outputs": [
    {
     "name": "stdout",
     "output_type": "stream",
     "text": [
      "Digite o dividendo 5\n",
      "Digite o divisor a\n",
      "Não foi possível dividir, problema = invalid literal for int() with base 10: 'a'\n"
     ]
    }
   ],
   "source": [
    "try:\n",
    "  n = int(input('Digite o dividendo '))\n",
    "  m = int(input('Digite o divisor '))\n",
    "  print(n/m)\n",
    "\n",
    "except Exception as e:\n",
    "  print('Não foi possível dividir, problema = {}'.format(e))"
   ]
  },
  {
   "cell_type": "markdown",
   "metadata": {
    "colab_type": "text",
    "id": "iciVKYe5zZCG"
   },
   "source": [
    "## E por que exceções são importantes para competições?\n",
    "\n",
    "* Algumas questões pedem que a entrada seja lida até o final do arquivo (EOF), a função input() do python não lida com esse tipo de problema, porém há uma exceção para este tipo de problema, a `EOFError`\n",
    "\n",
    "* A questão será então feita com um laço de repetição `while` e o `try-except` para detectar o fim do arquivo"
   ]
  },
  {
   "cell_type": "code",
   "execution_count": 0,
   "metadata": {
    "colab": {},
    "colab_type": "code",
    "id": "YtfJMTvw0bEd"
   },
   "outputs": [],
   "source": [
    "while True:\n",
    "  try:\n",
    "    n = input()\n",
    "    print(n)\n",
    "  except EOFError:\n",
    "    break"
   ]
  },
  {
   "cell_type": "markdown",
   "metadata": {
    "colab_type": "text",
    "id": "Jp3RUL-K0yxT"
   },
   "source": [
    "* Infelizmente não há como simular o final de arquivo no google colab, porém em plataformas o EOF pode ser simulado como por exemplo no [ideone](https://www.ideone.com)"
   ]
  },
  {
   "cell_type": "markdown",
   "metadata": {
    "colab_type": "text",
    "id": "d-LK3F2C561j"
   },
   "source": [
    "# Funções\n",
    "\n",
    "* Na maioria das vezes, quando estamos escrevendo algoritmos, acabamos repetindo alguns comandos tornando o trabalho de repetição de código menos eficientes em questão de memória e tempo de digitação\n",
    "\n",
    "* Para solucionar este problema de repetição de comandos, surgem as **funções**"
   ]
  },
  {
   "cell_type": "markdown",
   "metadata": {
    "colab_type": "text",
    "id": "4Vq0kckv6oEi"
   },
   "source": [
    "## A sintaxe básica de uma função é:\n",
    "\n",
    "\n",
    "```\n",
    "def nomedafuncao(arg1,arg2,arg3,...arng):\n",
    "    ''' Docstring '''\n",
    "    comandos\n",
    "    .\n",
    "    .\n",
    "    .\n",
    "    \n",
    "    return algo\n",
    "```\n",
    "\n",
    "* Em que uma função chamada nomedafuncao é definida, que tem como argumentos  arg1,arg2,arg3,...arng, a função é documentada por meio da Docstring (Não é necessária para competições de programação ) e, após a execução de todos os comandos retorna algo.\n",
    "\n",
    "* Uma função não necessariamente recebe argumentos, nem retorna algo, o que caracteriza uma função é apenas a existência de algum comando dentro de seu bloco"
   ]
  },
  {
   "cell_type": "code",
   "execution_count": 0,
   "metadata": {
    "colab": {},
    "colab_type": "code",
    "id": "1mEzRQ5J836K"
   },
   "outputs": [],
   "source": [
    "print('Olá a todos os alunos')\n",
    "print('Python é a melhor linguagem de programação')"
   ]
  },
  {
   "cell_type": "markdown",
   "metadata": {
    "colab_type": "text",
    "id": "NxQwaFbT88wS"
   },
   "source": [
    "Ao invés de escrever esses 2 comandos várias vezes, pode-se definir uma função que faria o mesmo trabalho em uma linha\n",
    "\n",
    "* Definindo a função imprimir_saudacao()"
   ]
  },
  {
   "cell_type": "code",
   "execution_count": 1,
   "metadata": {
    "colab": {
     "base_uri": "https://localhost:8080/",
     "height": 50
    },
    "colab_type": "code",
    "executionInfo": {
     "elapsed": 831,
     "status": "ok",
     "timestamp": 1543341760256,
     "user": {
      "displayName": "PET Engenharia Elétrica",
      "photoUrl": "https://lh4.googleusercontent.com/-vVPSBYCR2XE/AAAAAAAAAAI/AAAAAAAAAS8/TJli2EsDnK8/s64/photo.jpg",
      "userId": "01544811729501689043"
     },
     "user_tz": 180
    },
    "id": "bLNlBANU0i8z",
    "outputId": "6275949f-6b9a-4c77-cf8c-32066f68fa60"
   },
   "outputs": [
    {
     "name": "stdout",
     "output_type": "stream",
     "text": [
      "Olá a todos os alunos\n",
      "Python é a melhor linguagem de programação\n"
     ]
    }
   ],
   "source": [
    "def imprimir_saudacao():\n",
    "  print('Olá a todos os alunos')\n",
    "  print('Python é a melhor linguagem de programação')\n",
    "  \n",
    "imprimir_saudacao()"
   ]
  },
  {
   "cell_type": "markdown",
   "metadata": {
    "colab_type": "text",
    "id": "rvbhQIxyDE4P"
   },
   "source": [
    "Chamar a função ** imprimir_saudacao() ** imprimirá uma mensagem geral.Podemos fazer a função **imprimir_saudacao** receber um argumento que será o nome a ser saudado\n"
   ]
  },
  {
   "cell_type": "code",
   "execution_count": 0,
   "metadata": {
    "colab": {
     "base_uri": "https://localhost:8080/",
     "height": 52
    },
    "colab_type": "code",
    "executionInfo": {
     "elapsed": 767,
     "status": "ok",
     "timestamp": 1537392622786,
     "user": {
      "displayName": "Weslley da Cunha Santos",
      "photoUrl": "https://lh3.googleusercontent.com/a/default-user=s128",
      "userId": "116002397211802747098"
     },
     "user_tz": 180
    },
    "id": "9Mub8GOQDta2",
    "outputId": "95a07a64-699d-4da1-f694-ed2f3d2f60b4"
   },
   "outputs": [
    {
     "name": "stdout",
     "output_type": "stream",
     "text": [
      "Olá Raphael\n",
      "Python é a melhor linguagem de programação\n"
     ]
    }
   ],
   "source": [
    "def imprimir_saudacao(nome):\n",
    "  print('Olá ' + nome)\n",
    "  print('Python é a melhor linguagem de programação')\n",
    "  \n",
    "imprimir_saudacao('Raphael')"
   ]
  },
  {
   "cell_type": "markdown",
   "metadata": {
    "colab_type": "text",
    "id": "BNXK21BAD9Z2"
   },
   "source": [
    "## O comando return \n",
    "\n",
    "* Quando a função utilizada resulta em um valor e este valor precisa ser salvo em uma variável ou precisa ser enviado de volta para o algoritmo principal, o comando `return` é utilizado"
   ]
  },
  {
   "cell_type": "code",
   "execution_count": 0,
   "metadata": {
    "colab": {
     "base_uri": "https://localhost:8080/",
     "height": 34
    },
    "colab_type": "code",
    "executionInfo": {
     "elapsed": 1006,
     "status": "ok",
     "timestamp": 1537393014683,
     "user": {
      "displayName": "Weslley da Cunha Santos",
      "photoUrl": "https://lh3.googleusercontent.com/a/default-user=s128",
      "userId": "116002397211802747098"
     },
     "user_tz": 180
    },
    "id": "iQupQ3G6EOJM",
    "outputId": "53736927-2d26-4b87-a02a-3565abc5a8a8"
   },
   "outputs": [
    {
     "name": "stdout",
     "output_type": "stream",
     "text": [
      "10\n"
     ]
    }
   ],
   "source": [
    "def inverte(frase):\n",
    "  inversa = frase[::-1]\n",
    "  return inversa\n",
    "\n",
    "\n",
    "def soma(n1,n2):\n",
    "  n3 =  n1+n2\n",
    "  return n3\n",
    "\n",
    "\n",
    "a = soma(3,7)\n",
    "print(a)"
   ]
  },
  {
   "cell_type": "markdown",
   "metadata": {
    "colab_type": "text",
    "id": "3lCR6Bj-Eoga"
   },
   "source": [
    "A função acima **inverte** recebe uma frase como argumento e retorna a variável inversa, que contém a frase de trás pra frente."
   ]
  },
  {
   "cell_type": "code",
   "execution_count": 0,
   "metadata": {
    "colab": {
     "base_uri": "https://localhost:8080/",
     "height": 52
    },
    "colab_type": "code",
    "executionInfo": {
     "elapsed": 8377,
     "status": "ok",
     "timestamp": 1537392738226,
     "user": {
      "displayName": "Weslley da Cunha Santos",
      "photoUrl": "https://lh3.googleusercontent.com/a/default-user=s128",
      "userId": "116002397211802747098"
     },
     "user_tz": 180
    },
    "id": "6wqJgxfHFBww",
    "outputId": "31af40a4-0bc2-43e4-8329-949f26a0b29c"
   },
   "outputs": [
    {
     "name": "stdout",
     "output_type": "stream",
     "text": [
      "Digite um frase Olá mundo\n",
      "A frase invertida é odnum álO\n"
     ]
    }
   ],
   "source": [
    "n = input('Digite um frase ')\n",
    "cmp = inverte(n)\n",
    "print('A frase invertida é {}'.format(cmp))"
   ]
  },
  {
   "cell_type": "markdown",
   "metadata": {
    "colab_type": "text",
    "id": "A2bHP6ukFDc5"
   },
   "source": [
    "O valor de inversa é salvo na variável cmp e pode ser utilizado para outras operações.\n",
    "\n",
    "Ao invés de declarar outra variável o comando inteiro pode ser usado no return, como mostrado:"
   ]
  },
  {
   "cell_type": "code",
   "execution_count": 0,
   "metadata": {
    "colab": {},
    "colab_type": "code",
    "id": "4lPrMpjMFS-Q"
   },
   "outputs": [],
   "source": [
    "def inverte(frase):\n",
    "  ''' Retorna a frase invertida\n",
    "    frase é a frase a ser invertida\n",
    "  \n",
    "  \n",
    "  '''\n",
    "  return frase[::-1]"
   ]
  },
  {
   "cell_type": "markdown",
   "metadata": {
    "colab_type": "text",
    "id": "uOH-Eix5FdyB"
   },
   "source": [
    "Agora que a função **inverte()** está definida, podemos documentá-la como demonstrado acima. Esta documentação é mostrada quando se utiliza a função **help()** para alguma função"
   ]
  },
  {
   "cell_type": "code",
   "execution_count": 5,
   "metadata": {
    "colab": {
     "base_uri": "https://localhost:8080/",
     "height": 84
    },
    "colab_type": "code",
    "executionInfo": {
     "elapsed": 597,
     "status": "ok",
     "timestamp": 1543342838287,
     "user": {
      "displayName": "PET Engenharia Elétrica",
      "photoUrl": "https://lh4.googleusercontent.com/-vVPSBYCR2XE/AAAAAAAAAAI/AAAAAAAAAS8/TJli2EsDnK8/s64/photo.jpg",
      "userId": "01544811729501689043"
     },
     "user_tz": 180
    },
    "id": "jpgmXDwHFtIf",
    "outputId": "ce470187-cc15-48a9-f4ea-6e128c8a1d88"
   },
   "outputs": [
    {
     "name": "stdout",
     "output_type": "stream",
     "text": [
      "Help on function inverte in module __main__:\n",
      "\n",
      "inverte(frase)\n",
      "\n"
     ]
    }
   ],
   "source": [
    "help(inverte)"
   ]
  },
  {
   "cell_type": "markdown",
   "metadata": {
    "colab_type": "text",
    "id": "heTP2azgFsi_"
   },
   "source": [
    "Muitas variáveis podem ser retornadas de uma vez só, porém atente-se a ordem delas:\n"
   ]
  },
  {
   "cell_type": "code",
   "execution_count": 0,
   "metadata": {
    "colab": {},
    "colab_type": "code",
    "id": "FNzSmmHyF9xW"
   },
   "outputs": [],
   "source": [
    "def operacoes(a,b):\n",
    "  soma = a+b\n",
    "  subtracao = a-b\n",
    "  multiplicacao = a*b\n",
    "  divisao = a/b\n",
    "  return soma,subtracao,multiplicacao,divisao"
   ]
  },
  {
   "cell_type": "markdown",
   "metadata": {
    "colab_type": "text",
    "id": "E63YOjimGRYs"
   },
   "source": [
    "Se a função é chamada sem nenhuma variável para ser atribuída, o resultado é retornado dentro de uma tupla. Mas se as variáveis são mencionadas, o resultado é atribuído para a variável de acordo com a ordem declarada no comando return."
   ]
  },
  {
   "cell_type": "code",
   "execution_count": 9,
   "metadata": {
    "colab": {
     "base_uri": "https://localhost:8080/",
     "height": 34
    },
    "colab_type": "code",
    "executionInfo": {
     "elapsed": 605,
     "status": "ok",
     "timestamp": 1543342938640,
     "user": {
      "displayName": "PET Engenharia Elétrica",
      "photoUrl": "https://lh4.googleusercontent.com/-vVPSBYCR2XE/AAAAAAAAAAI/AAAAAAAAAS8/TJli2EsDnK8/s64/photo.jpg",
      "userId": "01544811729501689043"
     },
     "user_tz": 180
    },
    "id": "4ob4EDy0Gmpd",
    "outputId": "9c848397-08b8-48d4-9233-3f92ca1ef813"
   },
   "outputs": [
    {
     "name": "stdout",
     "output_type": "stream",
     "text": [
      "(3, -1, 2, 0.5)\n"
     ]
    }
   ],
   "source": [
    "print(operacoes(1,2))"
   ]
  },
  {
   "cell_type": "code",
   "execution_count": 0,
   "metadata": {
    "colab": {},
    "colab_type": "code",
    "id": "R2fONaVcGtg8"
   },
   "outputs": [],
   "source": [
    "a = 2\n",
    "b = 3\n",
    "so,su,m,d = operacoes(a,b)\n",
    "print('soma = {}, subtração = {}, multiplicação = {}, divisão = {}'.format(so,su,m,d))\n",
    "print(a,b)"
   ]
  },
  {
   "cell_type": "markdown",
   "metadata": {
    "colab_type": "text",
    "id": "OAJy7oCtpAO4"
   },
   "source": [
    "## Argumentos implícitos\n",
    "\n",
    "* Quando um argumento em uma função é comum na maioria dos casos ou é implícito, este conceito é utilizado"
   ]
  },
  {
   "cell_type": "code",
   "execution_count": 0,
   "metadata": {
    "colab": {
     "base_uri": "https://localhost:8080/",
     "height": 52
    },
    "colab_type": "code",
    "executionInfo": {
     "elapsed": 673,
     "status": "ok",
     "timestamp": 1537393591019,
     "user": {
      "displayName": "Weslley da Cunha Santos",
      "photoUrl": "https://lh3.googleusercontent.com/a/default-user=s128",
      "userId": "116002397211802747098"
     },
     "user_tz": 180
    },
    "id": "zFSIfvKVu8gw",
    "outputId": "82436b52-f4a4-49c0-9c70-872dbd007435"
   },
   "outputs": [
    {
     "name": "stdout",
     "output_type": "stream",
     "text": [
      "Olá Olá \n",
      "AAAAAAAAAAAAAAAAAAAAAAAAAAAAAAAAAAAAAAAAAAAAAAAAAA\n"
     ]
    }
   ],
   "source": [
    "def repetir(frase,n=2):\n",
    "  return n*frase\n",
    "\n",
    "print(repetir('Olá '))\n",
    "print(repetir('A',50))"
   ]
  },
  {
   "cell_type": "markdown",
   "metadata": {
    "colab_type": "text",
    "id": "uHHfgrtSw3SJ"
   },
   "source": [
    "## Qualquer número de argumentos\n",
    "\n",
    "* Se o número de de argumentos que serão utilizados em uma função não é conhecido, utiliza-se o símbolo do asterisco antes do argumento"
   ]
  },
  {
   "cell_type": "code",
   "execution_count": 10,
   "metadata": {
    "colab": {
     "base_uri": "https://localhost:8080/",
     "height": 67
    },
    "colab_type": "code",
    "executionInfo": {
     "elapsed": 715,
     "status": "ok",
     "timestamp": 1543343780254,
     "user": {
      "displayName": "PET Engenharia Elétrica",
      "photoUrl": "https://lh4.googleusercontent.com/-vVPSBYCR2XE/AAAAAAAAAAI/AAAAAAAAAS8/TJli2EsDnK8/s64/photo.jpg",
      "userId": "01544811729501689043"
     },
     "user_tz": 180
    },
    "id": "TqMzD10XxymV",
    "outputId": "1449739e-0af8-4ad5-b8b7-cab136124e43"
   },
   "outputs": [
    {
     "name": "stdout",
     "output_type": "stream",
     "text": [
      "3\n",
      "15\n",
      "0\n"
     ]
    }
   ],
   "source": [
    "def add_n(*numeros):\n",
    "  soma = 0\n",
    "  for numero in numeros:\n",
    "    soma+=numero\n",
    "  return soma\n",
    "\n",
    "\n",
    "print(add_n(1,2))\n",
    "print(add_n(1,2,3,4,5))\n",
    "print(add_n(0))"
   ]
  },
  {
   "cell_type": "markdown",
   "metadata": {
    "colab_type": "text",
    "id": "FWOp1Yy8yjMn"
   },
   "source": [
    "## Variáveis globais e locais\n",
    "\n",
    "* Quando uma variável é declarada dentro de uma função ela é chamada local, quando está fora do escopo de uma função, ela é global"
   ]
  },
  {
   "cell_type": "code",
   "execution_count": 0,
   "metadata": {
    "colab": {
     "base_uri": "https://localhost:8080/",
     "height": 34
    },
    "colab_type": "code",
    "executionInfo": {
     "elapsed": 708,
     "status": "ok",
     "timestamp": 1537394125848,
     "user": {
      "displayName": "Weslley da Cunha Santos",
      "photoUrl": "https://lh3.googleusercontent.com/a/default-user=s128",
      "userId": "116002397211802747098"
     },
     "user_tz": 180
    },
    "id": "K0zecQjQyKGA",
    "outputId": "9067f036-a4e0-487f-b3fd-542c485bc0b4"
   },
   "outputs": [
    {
     "name": "stdout",
     "output_type": "stream",
     "text": [
      "Weslley\n"
     ]
    }
   ],
   "source": [
    "'''\n",
    "v = [1,2,3,4,5]\n",
    "def func1():\n",
    "  def func2(arg):\n",
    "    v2 = v[:]\n",
    "    v2.append(6)\n",
    "    print('Este é meu vetor dentro da função',v2)\n",
    "  print('Este é meu vetor antes da chamada da função',v)\n",
    "  func2(v)\n",
    "  print('Este é meu vetor fora da função',v)\n",
    "  print('Tentando acessar uma variável criada dentro da função',v2)\n",
    "  \n",
    "  \n",
    "func1()\n",
    "\n",
    "'''\n",
    "\n",
    "\n",
    "def nomes():\n",
    "  global nome\n",
    "  nome = 'Weslley'\n",
    "  \n",
    "nomes()\n",
    "print(nome)"
   ]
  },
  {
   "cell_type": "markdown",
   "metadata": {
    "colab_type": "text",
    "id": "wSttJn4n0Mvs"
   },
   "source": [
    "* Se uma variável é declarada como **global** ela pode ser acessada em qualquer lugar  "
   ]
  },
  {
   "cell_type": "code",
   "execution_count": 0,
   "metadata": {
    "colab": {
     "base_uri": "https://localhost:8080/",
     "height": 87
    },
    "colab_type": "code",
    "executionInfo": {
     "elapsed": 851,
     "status": "ok",
     "timestamp": 1537394166843,
     "user": {
      "displayName": "Weslley da Cunha Santos",
      "photoUrl": "https://lh3.googleusercontent.com/a/default-user=s128",
      "userId": "116002397211802747098"
     },
     "user_tz": 180
    },
    "id": "osBZT1v20TMl",
    "outputId": "edb5c00b-7c6b-45c4-dcd7-b1269a5ff54d"
   },
   "outputs": [
    {
     "name": "stdout",
     "output_type": "stream",
     "text": [
      "Este é meu vetor antes da chamada da função [1, 2, 3, 4, 5]\n",
      "Este é meu vetor dentro da função [1, 2, 3, 4, 5, 6]\n",
      "Este é meu vetor fora da função [1, 2, 3, 4, 5]\n",
      "Tentando acessar uma variável criada dentro da função [1, 2, 3, 4, 5, 6]\n"
     ]
    }
   ],
   "source": [
    "v = [1,2,3,4,5]\n",
    "def func1():\n",
    "  def func2(arg):\n",
    "    global v2\n",
    "    v2 = v[:]\n",
    "    v2.append(6)\n",
    "    print('Este é meu vetor dentro da função',v2)\n",
    "  print('Este é meu vetor antes da chamada da função',v)\n",
    "  func2(v)\n",
    "  print('Este é meu vetor fora da função',v)\n",
    "  print('Tentando acessar uma variável criada dentro da função',v2)\n",
    "  \n",
    "  \n",
    "func1()"
   ]
  },
  {
   "cell_type": "markdown",
   "metadata": {
    "colab_type": "text",
    "id": "Q5R309cy0bMR"
   },
   "source": [
    "## A interação entre listas e funções\n",
    "\n",
    "* Listas podem ser alteradas dentro de funções e suas alterações continuarão mesmo após a execução da função, caso não se queira perder a lista original na execução da função, deve-se fazer uma cópia da lista"
   ]
  },
  {
   "cell_type": "code",
   "execution_count": 0,
   "metadata": {
    "colab": {
     "base_uri": "https://localhost:8080/",
     "height": 34
    },
    "colab_type": "code",
    "executionInfo": {
     "elapsed": 753,
     "status": "ok",
     "timestamp": 1537394259243,
     "user": {
      "displayName": "Weslley da Cunha Santos",
      "photoUrl": "https://lh3.googleusercontent.com/a/default-user=s128",
      "userId": "116002397211802747098"
     },
     "user_tz": 180
    },
    "id": "usNqog3r1N7y",
    "outputId": "bd02bf62-0af1-44af-8fbb-f41192e50139"
   },
   "outputs": [
    {
     "name": "stdout",
     "output_type": "stream",
     "text": [
      "[1, 2, 3, 4, 5]\n"
     ]
    }
   ],
   "source": [
    "v= [1,2,3]\n",
    "def add(v,n):\n",
    "  v.append(n)\n",
    "  \n",
    "add(v,4)\n",
    "add(v,5)\n",
    "print(v)"
   ]
  },
  {
   "cell_type": "code",
   "execution_count": 0,
   "metadata": {
    "colab": {
     "base_uri": "https://localhost:8080/",
     "height": 52
    },
    "colab_type": "code",
    "executionInfo": {
     "elapsed": 679,
     "status": "ok",
     "timestamp": 1537394364865,
     "user": {
      "displayName": "Weslley da Cunha Santos",
      "photoUrl": "https://lh3.googleusercontent.com/a/default-user=s128",
      "userId": "116002397211802747098"
     },
     "user_tz": 180
    },
    "id": "qSYMiFem1cmF",
    "outputId": "183623a6-efee-451f-86e0-1f1df51837d6"
   },
   "outputs": [
    {
     "name": "stdout",
     "output_type": "stream",
     "text": [
      "[-55, 0, 1, 2, 3, 12, 45, 87]\n",
      "[1, 2, 3, 0, -55, 45, 87, 12]\n"
     ]
    }
   ],
   "source": [
    "v = [1,2,3,0,-55,45,87,12]\n",
    "def ordena(vetor):\n",
    "  l = vetor[:]\n",
    "  l.sort()\n",
    "  print(l)\n",
    "ordena(v)\n",
    "print(v)"
   ]
  },
  {
   "cell_type": "markdown",
   "metadata": {
    "colab_type": "text",
    "id": "0Nxz4jwo3Kmw"
   },
   "source": [
    "## Algumas funções para trabalhar com funções\n",
    "\n",
    "### `map()`\n",
    "\n",
    "* Executa a função para todos os elementos de uma lista"
   ]
  },
  {
   "cell_type": "code",
   "execution_count": 0,
   "metadata": {
    "colab": {},
    "colab_type": "code",
    "id": "8PI0ByTl3W7w"
   },
   "outputs": [],
   "source": [
    "def inverte(frase):\n",
    "  return frase[::-1]\n",
    "\n",
    "\n",
    "nome = 'Weslley da Cunha Santos'.split()\n",
    "invertidos = list(map(inverte,nome))\n",
    "print(invertidos)"
   ]
  },
  {
   "cell_type": "markdown",
   "metadata": {
    "colab_type": "text",
    "id": "Iq7Ljw5G3mlg"
   },
   "source": [
    "A função map serve para uma lista de inteiros também"
   ]
  },
  {
   "cell_type": "code",
   "execution_count": 0,
   "metadata": {
    "colab": {},
    "colab_type": "code",
    "id": "CJ8Nty_l3pgd"
   },
   "outputs": [],
   "source": [
    "def quadrado(n):\n",
    "  return n*n\n",
    "\n",
    "\n",
    "v = [1,2,3,4,5]\n",
    "q = list(map(quadrado,v))\n",
    "print(q)"
   ]
  },
  {
   "cell_type": "markdown",
   "metadata": {
    "colab_type": "text",
    "id": "ltT7onSr33Uf"
   },
   "source": [
    "### `filter()`\n",
    "\n",
    "* É utilizado para filtrar valores em uma lista"
   ]
  },
  {
   "cell_type": "code",
   "execution_count": 0,
   "metadata": {
    "colab": {},
    "colab_type": "code",
    "id": "NeeWDc0-38RO"
   },
   "outputs": [],
   "source": [
    "def positivo(n):\n",
    "  return n > 0\n",
    "\n",
    "lista = [-5,-4,-4847,1,0,55,44]\n",
    "print(list(filter(positivo,lista)))"
   ]
  },
  {
   "cell_type": "code",
   "execution_count": 0,
   "metadata": {
    "colab": {
     "base_uri": "https://localhost:8080/",
     "height": 34
    },
    "colab_type": "code",
    "executionInfo": {
     "elapsed": 634,
     "status": "ok",
     "timestamp": 1536690387638,
     "user": {
      "displayName": "Weslley da Cunha Santos",
      "photoUrl": "https://lh3.googleusercontent.com/a/default-user=s128",
      "userId": "116002397211802747098"
     },
     "user_tz": 180
    },
    "id": "Et8Oh5qr38Ks",
    "outputId": "568a2583-a119-4371-8648-35ef1b2ca2fe"
   },
   "outputs": [
    {
     "name": "stdout",
     "output_type": "stream",
     "text": [
      "[-4, 0]\n"
     ]
    }
   ],
   "source": [
    "def pares(n):\n",
    "  return n%2 == 0\n",
    "\n",
    "print(list(filter(pares,lista)))"
   ]
  },
  {
   "cell_type": "markdown",
   "metadata": {
    "colab_type": "text",
    "id": "htxI-ByZiOS4"
   },
   "source": [
    "# Recursão\n",
    "\n",
    "* A recursão é um tópico de estudos em matemática e ciências da computação\n",
    "\n",
    "* Em linguagens de programação, o termo recursão é dado quando uma função chama a ela mesma\n",
    "\n",
    "* Pode ser utilizada matematicamente em funções cuja definição incluem a própria função (Exemplos?)\n",
    "\n",
    "* **Cuidado com a repetição infinita**"
   ]
  },
  {
   "cell_type": "code",
   "execution_count": 0,
   "metadata": {
    "colab": {},
    "colab_type": "code",
    "id": "U50JXfRbiN0d"
   },
   "outputs": [],
   "source": [
    "def funcao_para_travar_a_tela(i):\n",
    "  print(i)\n",
    "  funcao_para_travar_a_tela(i+1)\n",
    "  \n",
    "funcao_para_travar_a_tela(1)\n",
    "  "
   ]
  },
  {
   "cell_type": "markdown",
   "metadata": {
    "colab_type": "text",
    "id": "DRI9BGBzjJ1l"
   },
   "source": [
    "* Como o python é uma linguagem muito boa, ela inibe a repetição infinita, deixando sua função rodar apenas um número definido de vezes"
   ]
  },
  {
   "cell_type": "code",
   "execution_count": 0,
   "metadata": {
    "colab": {},
    "colab_type": "code",
    "id": "P77np67EjSZ5"
   },
   "outputs": [],
   "source": [
    "import sys\n",
    "sys.getrecursionlimit()"
   ]
  },
  {
   "cell_type": "markdown",
   "metadata": {
    "colab_type": "text",
    "id": "0TgG5eMhl8Bn"
   },
   "source": [
    "## O que uma função precisa para ser recursiva?\n",
    "\n",
    "* Uma função recursiva precisa ter um caso base\n",
    "* O que seria um caso base?"
   ]
  },
  {
   "cell_type": "markdown",
   "metadata": {
    "colab_type": "text",
    "id": "eYNOtXPGjYnj"
   },
   "source": [
    "## Exemplos de aplicações de recursão para competições?\n",
    "\n",
    "\n",
    "1.   Fatorial\n",
    "2.   Termial\n",
    "3.   ?\n",
    "\n"
   ]
  },
  {
   "cell_type": "code",
   "execution_count": 0,
   "metadata": {
    "colab": {},
    "colab_type": "code",
    "id": "muWhGBlBjdmM"
   },
   "outputs": [],
   "source": [
    "def fatorial(n):\n",
    "  if n == 0:\n",
    "    return 1\n",
    "  return n*fatorial(n-1)"
   ]
  },
  {
   "cell_type": "markdown",
   "metadata": {
    "colab_type": "text",
    "id": "5f4mghX9M_ux"
   },
   "source": [
    "## Exercícios com funções\n",
    "\n",
    "\n",
    "1.   Escreva uma função que retorne o número passado menos um\n",
    "2.   Escreva uma função que retorne uma palavra ao contrário\n",
    "3.   Escreva uma função que retorne 3 números passados em ordem decrescente\n",
    "4.   Escreva uma função recursiva que retorne a soma de todos os números entre a e  b\n",
    "\n",
    "5 .  Escreva uma função que retorne a quantidade de vogais em uma frase\n",
    "6.   Escreva uma função que retorne o maior número se os dois números forem pares, o menor se forem ímpares, ou a soma caso nenhuma das outras condições\n",
    "7. Escreva uma função que retorne o n-ésimo menor termo de uma lista\n",
    "8. Escreva uma função recursiva para calcular o fatorial de um número\n",
    "9. Escreva uma função que conte a quantidade de palavras diferentes em uma frase\n",
    "10. Escreva uma função que adicione a última vogal encontrada ao fim da palavra\n",
    "11. Escreva uma função recursiva que, dada uma lista, imprima apenas seus valores pares\n",
    "\n",
    "12 . Escreva uma função que retorne o maior divisor comum entre dois números\n",
    "\n"
   ]
  },
  {
   "cell_type": "code",
   "execution_count": 0,
   "metadata": {
    "colab": {
     "base_uri": "https://localhost:8080/",
     "height": 111
    },
    "colab_type": "code",
    "executionInfo": {
     "elapsed": 12068,
     "status": "ok",
     "timestamp": 1537998097326,
     "user": {
      "displayName": "Weslley da Cunha Santos",
      "photoUrl": "",
      "userId": "00324762254281987110"
     },
     "user_tz": 180
    },
    "id": "9V0rV92tyOL5",
    "outputId": "2e1f4483-0dbd-4801-9fab-b67ae1039ae9"
   },
   "outputs": [
    {
     "name": "stdout",
     "output_type": "stream",
     "text": [
      "2000000\n",
      "1999999\n",
      "1\n",
      "0\n",
      "-1\n"
     ]
    }
   ],
   "source": [
    "def menosum(numero):\n",
    "  return numero - 1\n",
    "\n",
    "\n",
    "# Questão 2334\n",
    "\n",
    "\n",
    "while True:\n",
    "  n = int(input())\n",
    "  if n == -1:\n",
    "    break\n",
    "  val = menosum(n)\n",
    "  if val < 0:\n",
    "    print(0)\n",
    "  else:\n",
    "    print(val)"
   ]
  },
  {
   "cell_type": "code",
   "execution_count": 0,
   "metadata": {
    "colab": {},
    "colab_type": "code",
    "id": "0B7i9ZhS36xL"
   },
   "outputs": [],
   "source": [
    "def reversa(palavra):\n",
    "  return palavra[::-1]\n",
    "\n",
    "\n",
    "frase = 'araraquara'\n",
    "inversa = reversa(frase)\n",
    "print(inversa == frase)"
   ]
  },
  {
   "cell_type": "code",
   "execution_count": 0,
   "metadata": {
    "colab": {
     "base_uri": "https://localhost:8080/",
     "height": 36
    },
    "colab_type": "code",
    "executionInfo": {
     "elapsed": 708,
     "status": "ok",
     "timestamp": 1537999294995,
     "user": {
      "displayName": "Weslley da Cunha Santos",
      "photoUrl": "",
      "userId": "00324762254281987110"
     },
     "user_tz": 180
    },
    "id": "13t776IT42gu",
    "outputId": "275d565e-5ae7-48be-e5ef-f1db06943ba7"
   },
   "outputs": [
    {
     "name": "stdout",
     "output_type": "stream",
     "text": [
      "5 3 1\n"
     ]
    }
   ],
   "source": [
    "def ordem_inversa(a,b,c):\n",
    "  numeros = [a,b,c]\n",
    "  ordenados = sorted(numeros,reverse= True)\n",
    "  return ordenados\n",
    "\n",
    "a,b,c= ordem_inversa(1,5,3)\n",
    "print(a,b,c)\n",
    "  "
   ]
  },
  {
   "cell_type": "code",
   "execution_count": 0,
   "metadata": {
    "colab": {},
    "colab_type": "code",
    "id": "GJKHdpEU50nL"
   },
   "outputs": [],
   "source": [
    "def soma(a,b):\n",
    "  if a == b:\n",
    "    return b\n",
    "  return a + soma(a+1,b)\n",
    "\n",
    "print(soma(0,5))"
   ]
  }
 ],
 "metadata": {
  "colab": {
   "name": "Aula 4.ipynb",
   "provenance": [],
   "version": "0.3.2"
  },
  "kernelspec": {
   "display_name": "Python 3",
   "language": "python",
   "name": "python3"
  },
  "language_info": {
   "codemirror_mode": {
    "name": "ipython",
    "version": 3
   },
   "file_extension": ".py",
   "mimetype": "text/x-python",
   "name": "python",
   "nbconvert_exporter": "python",
   "pygments_lexer": "ipython3",
   "version": "3.8.5"
  }
 },
 "nbformat": 4,
 "nbformat_minor": 1
}
